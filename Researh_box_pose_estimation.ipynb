{
 "cells": [
  {
   "cell_type": "markdown",
   "metadata": {
    "id": "ZRO2knr1Tw9R"
   },
   "source": [
    "# Detect keyptoints on video with OpenPose"
   ]
  },
  {
   "cell_type": "markdown",
   "metadata": {
    "id": "fqz-Bv6SUCDg"
   },
   "source": [
    "## Get access to data\n",
    "\n",
    "- Mount GoogleDrive\n",
    "- Update path to directories\n",
    "- Read names from data.txt"
   ]
  },
  {
   "cell_type": "code",
   "execution_count": 12,
   "metadata": {
    "colab": {
     "base_uri": "https://localhost:8080/"
    },
    "id": "fOcYBFg0mVZV",
    "outputId": "299a74c8-84a1-40f1-990f-eb816267a80c"
   },
   "outputs": [],
   "source": [
    "# Необходимо загрузить данные на гугл диск и использовать их оттуда.\n",
    "# You need to upload the data to GoogleDisk and use it from there.\n",
    "\n",
    "from os.path import exists\n",
    "\n",
    "INPUT_PATH = \"new_data\\\\\"\n",
    "OUTPUT_PATH  = \"output_new_data\\\\\"\n",
    "\n",
    "if not exists(OUTPUT_PATH):\n",
    "    !mkdir {OUTPUT_PATH}\n",
    "\n",
    "# Рабочая директория должны выглядеть следующим образом:\n",
    "# The input directory have to be like:\n",
    "\n",
    "# - /work_directory\n",
    "#    - data.txt\n",
    "#    - 1.mov\n",
    "#    - 2.mov\n",
    "#    ..."
   ]
  },
  {
   "cell_type": "code",
   "execution_count": 13,
   "metadata": {
    "colab": {
     "base_uri": "https://localhost:8080/"
    },
    "id": "BMt3aW1OmWTY",
    "outputId": "67561cff-d846-4c6d-ae91-2959df15031c"
   },
   "outputs": [
    {
     "data": {
      "text/plain": [
       "['1.mp4', '2.mp4', '3.mp4', '4.mp4', '5.mp4', '6.mp4', '7.mp4', '8.mp4']"
      ]
     },
     "execution_count": 13,
     "metadata": {},
     "output_type": "execute_result"
    }
   ],
   "source": [
    "# Данные в data.txt должны быть разделены символом новой строки.\n",
    "# Последняя строка должна быть пустой.\n",
    "\n",
    "# Names in data.txt have to divide by '\\n'.\n",
    "# Last line have to be empty.\n",
    "\n",
    "with open(INPUT_PATH + 'data.txt') as f:\n",
    "    names = f.read().split('\\n')[:-1]\n",
    "\n",
    "names"
   ]
  },
  {
   "cell_type": "markdown",
   "metadata": {
    "id": "wUybaOsV_p8u"
   },
   "source": [
    "## Install OpenPose-pytorch\n",
    "\n",
    "- Install ffmpeg\n",
    "- Install [openPose-pythorch](https://github.com/prasunroy/openpose-pytorch)\n",
    "\n"
   ]
  },
  {
   "cell_type": "code",
   "execution_count": 3,
   "metadata": {
    "colab": {
     "base_uri": "https://localhost:8080/"
    },
    "id": "uRAh1Jeu7NW7",
    "outputId": "35d5e019-8c3f-4f4e-cf8a-05c7be7a44cb",
    "scrolled": true
   },
   "outputs": [
    {
     "name": "stdout",
     "output_type": "stream",
     "text": [
      "Requirement already satisfied: ffmpeg-python in c:\\python38\\lib\\site-packages (0.2.0)\n",
      "Requirement already satisfied: future in c:\\python38\\lib\\site-packages (from ffmpeg-python) (0.18.3)\n"
     ]
    },
    {
     "name": "stderr",
     "output_type": "stream",
     "text": [
      "WARNING: Ignoring invalid distribution -pencv-python (c:\\python38\\lib\\site-packages)\n",
      "WARNING: Ignoring invalid distribution -pencv-python (c:\\python38\\lib\\site-packages)\n"
     ]
    },
    {
     "name": "stdout",
     "output_type": "stream",
     "text": [
      "Collecting git+https://github.com/prasunroy/openpose-pytorch.git\n",
      "  Cloning https://github.com/prasunroy/openpose-pytorch.git to c:\\users\\андрей токарев\\appdata\\local\\temp\\pip-req-build-rqwrnehl\n",
      "  Resolved https://github.com/prasunroy/openpose-pytorch.git to commit a8bc85685512537c5b024ee135bfa3eed487cefb\n",
      "  Preparing metadata (setup.py): started\n",
      "  Preparing metadata (setup.py): finished with status 'done'\n",
      "Requirement already satisfied: numpy in c:\\python38\\lib\\site-packages (from openpose-pytorch==0.1.0) (1.21.4)\n",
      "Requirement already satisfied: opencv-contrib-python in c:\\python38\\lib\\site-packages (from openpose-pytorch==0.1.0) (4.8.0.76)\n",
      "Requirement already satisfied: scipy in c:\\python38\\lib\\site-packages (from openpose-pytorch==0.1.0) (1.6.1)\n",
      "Requirement already satisfied: tqdm in c:\\python38\\lib\\site-packages (from openpose-pytorch==0.1.0) (4.62.3)\n",
      "Requirement already satisfied: colorama in c:\\python38\\lib\\site-packages (from tqdm->openpose-pytorch==0.1.0) (0.4.3)\n"
     ]
    },
    {
     "name": "stderr",
     "output_type": "stream",
     "text": [
      "WARNING: Ignoring invalid distribution -pencv-python (c:\\python38\\lib\\site-packages)\n",
      "  Running command git clone --filter=blob:none --quiet https://github.com/prasunroy/openpose-pytorch.git 'C:\\Users\\Андрей Токарев\\AppData\\Local\\Temp\\pip-req-build-rqwrnehl'\n",
      "WARNING: Ignoring invalid distribution -pencv-python (c:\\python38\\lib\\site-packages)\n"
     ]
    }
   ],
   "source": [
    "!pip install ffmpeg-python\n",
    "!pip install git+https://github.com/prasunroy/openpose-pytorch.git"
   ]
  },
  {
   "cell_type": "code",
   "execution_count": 4,
   "metadata": {
    "id": "bDYokpsV_94R"
   },
   "outputs": [],
   "source": [
    "import cv2\n",
    "\n",
    "import ffmpeg\n",
    "import json\n",
    "\n",
    "from openpose.body.estimator import BodyPoseEstimator\n",
    "from openpose.utils import draw_body_connections, draw_keypoints"
   ]
  },
  {
   "cell_type": "code",
   "execution_count": 8,
   "metadata": {},
   "outputs": [],
   "source": [
    "import subprocess\n",
    "from typing import NamedTuple\n",
    "\n",
    "class FFProbeResult(NamedTuple):\n",
    "    return_code: int\n",
    "    json: str\n",
    "    error: str\n",
    "\n",
    "def ffprobe(file_path) -> FFProbeResult:\n",
    "    command_array = [\"ffprobe\",\n",
    "                     \"-v\", \"quiet\",\n",
    "                     \"-print_format\", \"json\",\n",
    "                     \"-show_format\",\n",
    "                     \"-show_streams\",\n",
    "                     file_path]\n",
    "    result = subprocess.run(command_array, stdout=subprocess.PIPE, stderr=subprocess.PIPE, universal_newlines=True)\n",
    "    return FFProbeResult(return_code=result.returncode,\n",
    "                         json=result.stdout,\n",
    "                         error=result.stderr)\n"
   ]
  },
  {
   "cell_type": "code",
   "execution_count": 14,
   "metadata": {},
   "outputs": [],
   "source": [
    "input_name = INPUT_PATH + names[0]\n",
    "output_name = OUTPUT_PATH + names[0]\n",
    "\n",
    "ffprobe_result = ffprobe(input_name)\n",
    "info = json.loads(ffprobe_result.json)\n",
    "videoinfo = [i for i in info[\"streams\"] if i[\"codec_type\"] == \"video\"][0]\n",
    "input_fps = videoinfo[\"avg_frame_rate\"]\n",
    "input_pix_fmt = videoinfo[\"pix_fmt\"]\n",
    "input_vcodec = videoinfo[\"codec_name\"]"
   ]
  },
  {
   "cell_type": "code",
   "execution_count": 15,
   "metadata": {
    "id": "IbBP6hDrnPT-"
   },
   "outputs": [],
   "source": [
    "from os import remove\n",
    "\n",
    "class Writer():\n",
    "    def __init__(self, output_file, input_fps, input_framesize, input_pix_fmt,\n",
    "                 input_vcodec):\n",
    "        if exists(output_file):\n",
    "            remove(output_file)\n",
    "        self.ff_proc = (\n",
    "            ffmpeg\n",
    "            .input('pipe:',\n",
    "                   format='rawvideo',\n",
    "                   pix_fmt=\"bgr24\",\n",
    "                   s='%sx%s'%(input_framesize[1],input_framesize[0]),\n",
    "                   r=input_fps\n",
    "                   )\n",
    "            .output(output_file, pix_fmt=input_pix_fmt, vcodec=input_vcodec)\n",
    "            .overwrite_output()\n",
    "            .run_async(pipe_stdin=True)\n",
    "        )\n",
    "\n",
    "    def __call__(self, frame):\n",
    "        self.ff_proc.stdin.write(frame.tobytes())\n",
    "\n",
    "    def close(self):\n",
    "        self.ff_proc.stdin.close()\n",
    "        self.ff_proc.wait()"
   ]
  },
  {
   "cell_type": "code",
   "execution_count": 16,
   "metadata": {
    "colab": {
     "base_uri": "https://localhost:8080/"
    },
    "id": "N-dQ6ovC_919",
    "outputId": "fe82d46c-4416-4212-d83e-d5f936797519"
   },
   "outputs": [
    {
     "name": "stdout",
     "output_type": "stream",
     "text": [
      "[[[ 486  400    1]\n",
      "  [ 543  450    1]\n",
      "  [ 541  450    1]\n",
      "  [ 457  534    1]\n",
      "  [ 475  459    1]\n",
      "  [ 552  454    1]\n",
      "  [ 460  534    1]\n",
      "  [ 467  432    1]\n",
      "  [ 530  679    1]\n",
      "  [ 576  821    1]\n",
      "  [ 619  949    1]\n",
      "  [ 518  682    1]\n",
      "  [ 479  855    1]\n",
      "  [ 458 1029    1]\n",
      "  [   0    0    0]\n",
      "  [ 494  383    1]\n",
      "  [   0    0    0]\n",
      "  [ 532  374    1]]]\n"
     ]
    }
   ],
   "source": [
    "estimator = BodyPoseEstimator(pretrained=True)\n",
    "videoclip = cv2.VideoCapture(input_name)\n",
    "\n",
    "print_keypoints = True\n",
    "writer = None\n",
    "while videoclip.isOpened():\n",
    "    flag, frame = videoclip.read()\n",
    "    if not flag:\n",
    "        break\n",
    "\n",
    "    keypoints = estimator(frame)\n",
    "    if print_keypoints:\n",
    "        print(keypoints)\n",
    "        print_keypoints = False\n",
    "\n",
    "    frame = draw_body_connections(frame, keypoints, thickness=2, alpha=0.7)\n",
    "    frame = draw_keypoints(frame, keypoints, radius=4, alpha=0.8)\n",
    "\n",
    "    if writer is None:\n",
    "        input_framesize = frame.shape[:2]\n",
    "        writer = Writer(output_name, input_fps, input_framesize, input_pix_fmt,\n",
    "                        input_vcodec)\n",
    "\n",
    "    # cv2_imshow(frame)\n",
    "    writer(frame)\n",
    "\n",
    "    if cv2.waitKey(20) & 0xff == 27: # exit if pressed `ESC`\n",
    "        break\n",
    "videoclip.release()\n",
    "writer.close()\n",
    "cv2.destroyAllWindows()"
   ]
  },
  {
   "cell_type": "code",
   "execution_count": null,
   "metadata": {
    "id": "-3EbIQH7HFaq"
   },
   "outputs": [],
   "source": []
  }
 ],
 "metadata": {
  "accelerator": "GPU",
  "colab": {
   "provenance": []
  },
  "kernelspec": {
   "display_name": "Python 3",
   "language": "python",
   "name": "python3"
  },
  "language_info": {
   "codemirror_mode": {
    "name": "ipython",
    "version": 3
   },
   "file_extension": ".py",
   "mimetype": "text/x-python",
   "name": "python",
   "nbconvert_exporter": "python",
   "pygments_lexer": "ipython3",
   "version": "3.8.1"
  }
 },
 "nbformat": 4,
 "nbformat_minor": 1
}
